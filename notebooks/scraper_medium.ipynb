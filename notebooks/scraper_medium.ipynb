{
 "cells": [
  {
   "cell_type": "code",
   "execution_count": 13,
   "metadata": {},
   "outputs": [
    {
     "name": "stdout",
     "output_type": "stream",
     "text": [
      "Defaulting to user installation because normal site-packages is not writeable\n",
      "Requirement already satisfied: selenium in /Users/krishmurjani/Library/Python/3.9/lib/python/site-packages (4.27.1)\n",
      "Requirement already satisfied: certifi>=2021.10.8 in /Users/krishmurjani/Library/Python/3.9/lib/python/site-packages (from selenium) (2024.8.30)\n",
      "Requirement already satisfied: trio~=0.17 in /Users/krishmurjani/Library/Python/3.9/lib/python/site-packages (from selenium) (0.27.0)\n",
      "Requirement already satisfied: urllib3[socks]<3,>=1.26 in /Users/krishmurjani/Library/Python/3.9/lib/python/site-packages (from selenium) (2.2.3)\n",
      "Requirement already satisfied: typing_extensions~=4.9 in /Users/krishmurjani/Library/Python/3.9/lib/python/site-packages (from selenium) (4.12.2)\n",
      "Requirement already satisfied: trio-websocket~=0.9 in /Users/krishmurjani/Library/Python/3.9/lib/python/site-packages (from selenium) (0.11.1)\n",
      "Requirement already satisfied: websocket-client~=1.8 in /Users/krishmurjani/Library/Python/3.9/lib/python/site-packages (from selenium) (1.8.0)\n",
      "Requirement already satisfied: attrs>=23.2.0 in /Users/krishmurjani/Library/Python/3.9/lib/python/site-packages (from trio~=0.17->selenium) (24.2.0)\n",
      "Requirement already satisfied: exceptiongroup in /Users/krishmurjani/Library/Python/3.9/lib/python/site-packages (from trio~=0.17->selenium) (1.2.2)\n",
      "Requirement already satisfied: outcome in /Users/krishmurjani/Library/Python/3.9/lib/python/site-packages (from trio~=0.17->selenium) (1.3.0.post0)\n",
      "Requirement already satisfied: sortedcontainers in /Users/krishmurjani/Library/Python/3.9/lib/python/site-packages (from trio~=0.17->selenium) (2.4.0)\n",
      "Requirement already satisfied: sniffio>=1.3.0 in /Users/krishmurjani/Library/Python/3.9/lib/python/site-packages (from trio~=0.17->selenium) (1.3.1)\n",
      "Requirement already satisfied: idna in /Users/krishmurjani/Library/Python/3.9/lib/python/site-packages (from trio~=0.17->selenium) (3.10)\n",
      "Requirement already satisfied: wsproto>=0.14 in /Users/krishmurjani/Library/Python/3.9/lib/python/site-packages (from trio-websocket~=0.9->selenium) (1.2.0)\n",
      "Requirement already satisfied: pysocks!=1.5.7,<2.0,>=1.5.6 in /Users/krishmurjani/Library/Python/3.9/lib/python/site-packages (from urllib3[socks]<3,>=1.26->selenium) (1.7.1)\n",
      "Requirement already satisfied: h11<1,>=0.9.0 in /Users/krishmurjani/Library/Python/3.9/lib/python/site-packages (from wsproto>=0.14->trio-websocket~=0.9->selenium) (0.14.0)\n",
      "\u001b[33mWARNING: You are using pip version 21.2.4; however, version 24.3.1 is available.\n",
      "You should consider upgrading via the '/Applications/Xcode.app/Contents/Developer/usr/bin/python3 -m pip install --upgrade pip' command.\u001b[0m\n",
      "Note: you may need to restart the kernel to use updated packages.\n"
     ]
    }
   ],
   "source": [
    "pip install selenium"
   ]
  },
  {
   "cell_type": "code",
   "execution_count": 14,
   "metadata": {},
   "outputs": [
    {
     "name": "stdout",
     "output_type": "stream",
     "text": [
      "Defaulting to user installation because normal site-packages is not writeable\n",
      "Requirement already satisfied: bs4 in /Users/krishmurjani/Library/Python/3.9/lib/python/site-packages (0.0.2)\n",
      "Requirement already satisfied: beautifulsoup4 in /Users/krishmurjani/Library/Python/3.9/lib/python/site-packages (from bs4) (4.12.3)\n",
      "Requirement already satisfied: soupsieve>1.2 in /Users/krishmurjani/Library/Python/3.9/lib/python/site-packages (from beautifulsoup4->bs4) (2.6)\n",
      "\u001b[33mWARNING: You are using pip version 21.2.4; however, version 24.3.1 is available.\n",
      "You should consider upgrading via the '/Applications/Xcode.app/Contents/Developer/usr/bin/python3 -m pip install --upgrade pip' command.\u001b[0m\n",
      "Note: you may need to restart the kernel to use updated packages.\n"
     ]
    }
   ],
   "source": [
    "pip install bs4"
   ]
  },
  {
   "cell_type": "code",
   "execution_count": 15,
   "metadata": {},
   "outputs": [
    {
     "name": "stdout",
     "output_type": "stream",
     "text": [
      "Defaulting to user installation because normal site-packages is not writeable\n",
      "\u001b[31mERROR: Could not find a version that satisfies the requirement time (from versions: none)\u001b[0m\n",
      "\u001b[31mERROR: No matching distribution found for time\u001b[0m\n",
      "\u001b[33mWARNING: You are using pip version 21.2.4; however, version 24.3.1 is available.\n",
      "You should consider upgrading via the '/Applications/Xcode.app/Contents/Developer/usr/bin/python3 -m pip install --upgrade pip' command.\u001b[0m\n",
      "Note: you may need to restart the kernel to use updated packages.\n"
     ]
    }
   ],
   "source": [
    "pip install time"
   ]
  },
  {
   "cell_type": "code",
   "execution_count": 16,
   "metadata": {},
   "outputs": [
    {
     "name": "stdout",
     "output_type": "stream",
     "text": [
      "Defaulting to user installation because normal site-packages is not writeable\n",
      "Collecting logging\n",
      "  Using cached logging-0.4.9.6.tar.gz (96 kB)\n",
      "\u001b[31m    ERROR: Command errored out with exit status 1:\n",
      "     command: /Applications/Xcode.app/Contents/Developer/usr/bin/python3 -c 'import io, os, sys, setuptools, tokenize; sys.argv[0] = '\"'\"'/private/var/folders/8y/g9jsbl415s54s0bxzztd72p00000gn/T/pip-install-higgsr9z/logging_ca3152c853114a379480ee5421b83299/setup.py'\"'\"'; __file__='\"'\"'/private/var/folders/8y/g9jsbl415s54s0bxzztd72p00000gn/T/pip-install-higgsr9z/logging_ca3152c853114a379480ee5421b83299/setup.py'\"'\"';f = getattr(tokenize, '\"'\"'open'\"'\"', open)(__file__) if os.path.exists(__file__) else io.StringIO('\"'\"'from setuptools import setup; setup()'\"'\"');code = f.read().replace('\"'\"'\\r\\n'\"'\"', '\"'\"'\\n'\"'\"');f.close();exec(compile(code, __file__, '\"'\"'exec'\"'\"'))' egg_info --egg-base /private/var/folders/8y/g9jsbl415s54s0bxzztd72p00000gn/T/pip-pip-egg-info-ocl9z6dm\n",
      "         cwd: /private/var/folders/8y/g9jsbl415s54s0bxzztd72p00000gn/T/pip-install-higgsr9z/logging_ca3152c853114a379480ee5421b83299/\n",
      "    Complete output (26 lines):\n",
      "    Traceback (most recent call last):\n",
      "      File \"<string>\", line 1, in <module>\n",
      "      File \"/Applications/Xcode.app/Contents/Developer/Library/Frameworks/Python3.framework/Versions/3.9/lib/python3.9/site-packages/setuptools/__init__.py\", line 18, in <module>\n",
      "        from setuptools.dist import Distribution\n",
      "      File \"/Applications/Xcode.app/Contents/Developer/Library/Frameworks/Python3.framework/Versions/3.9/lib/python3.9/site-packages/setuptools/dist.py\", line 32, in <module>\n",
      "        from setuptools.extern.more_itertools import unique_everseen\n",
      "      File \"<frozen importlib._bootstrap>\", line 1007, in _find_and_load\n",
      "      File \"<frozen importlib._bootstrap>\", line 986, in _find_and_load_unlocked\n",
      "      File \"<frozen importlib._bootstrap>\", line 666, in _load_unlocked\n",
      "      File \"<frozen importlib._bootstrap>\", line 565, in module_from_spec\n",
      "      File \"/Applications/Xcode.app/Contents/Developer/Library/Frameworks/Python3.framework/Versions/3.9/lib/python3.9/site-packages/setuptools/extern/__init__.py\", line 52, in create_module\n",
      "        return self.load_module(spec.name)\n",
      "      File \"/Applications/Xcode.app/Contents/Developer/Library/Frameworks/Python3.framework/Versions/3.9/lib/python3.9/site-packages/setuptools/extern/__init__.py\", line 37, in load_module\n",
      "        __import__(extant)\n",
      "      File \"/Applications/Xcode.app/Contents/Developer/Library/Frameworks/Python3.framework/Versions/3.9/lib/python3.9/site-packages/setuptools/_vendor/more_itertools/__init__.py\", line 1, in <module>\n",
      "        from .more import *  # noqa\n",
      "      File \"/Applications/Xcode.app/Contents/Developer/Library/Frameworks/Python3.framework/Versions/3.9/lib/python3.9/site-packages/setuptools/_vendor/more_itertools/more.py\", line 5, in <module>\n",
      "        from concurrent.futures import ThreadPoolExecutor\n",
      "      File \"/Applications/Xcode.app/Contents/Developer/Library/Frameworks/Python3.framework/Versions/3.9/lib/python3.9/concurrent/futures/__init__.py\", line 8, in <module>\n",
      "        from concurrent.futures._base import (FIRST_COMPLETED,\n",
      "      File \"/Applications/Xcode.app/Contents/Developer/Library/Frameworks/Python3.framework/Versions/3.9/lib/python3.9/concurrent/futures/_base.py\", line 7, in <module>\n",
      "        import logging\n",
      "      File \"/private/var/folders/8y/g9jsbl415s54s0bxzztd72p00000gn/T/pip-install-higgsr9z/logging_ca3152c853114a379480ee5421b83299/logging/__init__.py\", line 618\n",
      "        raise NotImplementedError, 'emit must be implemented '\\\n",
      "                                 ^\n",
      "    SyntaxError: invalid syntax\n",
      "    ----------------------------------------\u001b[0m\n",
      "\u001b[33mWARNING: Discarding https://files.pythonhosted.org/packages/93/4b/979db9e44be09f71e85c9c8cfc42f258adfb7d93ce01deed2788b2948919/logging-0.4.9.6.tar.gz#sha256=26f6b50773f085042d301085bd1bf5d9f3735704db9f37c1ce6d8b85c38f2417 (from https://pypi.org/simple/logging/). Command errored out with exit status 1: python setup.py egg_info Check the logs for full command output.\u001b[0m\n",
      "\u001b[31mERROR: Could not find a version that satisfies the requirement logging (from versions: 0.4.9.6)\u001b[0m\n",
      "\u001b[31mERROR: No matching distribution found for logging\u001b[0m\n",
      "\u001b[33mWARNING: You are using pip version 21.2.4; however, version 24.3.1 is available.\n",
      "You should consider upgrading via the '/Applications/Xcode.app/Contents/Developer/usr/bin/python3 -m pip install --upgrade pip' command.\u001b[0m\n",
      "Note: you may need to restart the kernel to use updated packages.\n"
     ]
    }
   ],
   "source": [
    "pip install logging"
   ]
  },
  {
   "cell_type": "code",
   "execution_count": 17,
   "metadata": {},
   "outputs": [
    {
     "name": "stdout",
     "output_type": "stream",
     "text": [
      "Defaulting to user installation because normal site-packages is not writeable\n",
      "Requirement already satisfied: webdriver_manager in /Users/krishmurjani/Library/Python/3.9/lib/python/site-packages (4.0.2)\n",
      "Requirement already satisfied: packaging in /Users/krishmurjani/Library/Python/3.9/lib/python/site-packages (from webdriver_manager) (24.1)\n",
      "Requirement already satisfied: requests in /Users/krishmurjani/Library/Python/3.9/lib/python/site-packages (from webdriver_manager) (2.31.0)\n",
      "Requirement already satisfied: python-dotenv in /Users/krishmurjani/Library/Python/3.9/lib/python/site-packages (from webdriver_manager) (1.0.1)\n",
      "Requirement already satisfied: urllib3<3,>=1.21.1 in /Users/krishmurjani/Library/Python/3.9/lib/python/site-packages (from requests->webdriver_manager) (2.2.3)\n",
      "Requirement already satisfied: idna<4,>=2.5 in /Users/krishmurjani/Library/Python/3.9/lib/python/site-packages (from requests->webdriver_manager) (3.10)\n",
      "Requirement already satisfied: certifi>=2017.4.17 in /Users/krishmurjani/Library/Python/3.9/lib/python/site-packages (from requests->webdriver_manager) (2024.8.30)\n",
      "Requirement already satisfied: charset-normalizer<4,>=2 in /Users/krishmurjani/Library/Python/3.9/lib/python/site-packages (from requests->webdriver_manager) (3.3.2)\n",
      "\u001b[33mWARNING: You are using pip version 21.2.4; however, version 24.3.1 is available.\n",
      "You should consider upgrading via the '/Applications/Xcode.app/Contents/Developer/usr/bin/python3 -m pip install --upgrade pip' command.\u001b[0m\n",
      "Note: you may need to restart the kernel to use updated packages.\n"
     ]
    }
   ],
   "source": [
    "pip install webdriver_manager"
   ]
  },
  {
   "cell_type": "code",
   "execution_count": 18,
   "metadata": {},
   "outputs": [
    {
     "name": "stdout",
     "output_type": "stream",
     "text": [
      "Defaulting to user installation because normal site-packages is not writeable\n",
      "Requirement already satisfied: pymongo in /Users/krishmurjani/Library/Python/3.9/lib/python/site-packages (4.10.1)\n",
      "Requirement already satisfied: dnspython<3.0.0,>=1.16.0 in /Users/krishmurjani/Library/Python/3.9/lib/python/site-packages (from pymongo) (2.7.0)\n",
      "\u001b[33mWARNING: You are using pip version 21.2.4; however, version 24.3.1 is available.\n",
      "You should consider upgrading via the '/Applications/Xcode.app/Contents/Developer/usr/bin/python3 -m pip install --upgrade pip' command.\u001b[0m\n",
      "Note: you may need to restart the kernel to use updated packages.\n"
     ]
    }
   ],
   "source": [
    "pip install pymongo "
   ]
  },
  {
   "cell_type": "code",
   "execution_count": null,
   "metadata": {},
   "outputs": [
    {
     "name": "stderr",
     "output_type": "stream",
     "text": [
      "INFO:WDM:====== WebDriver manager ======\n",
      "INFO:WDM:Get LATEST chromedriver version for google-chrome\n",
      "INFO:WDM:Get LATEST chromedriver version for google-chrome\n",
      "INFO:WDM:Driver [/Users/krishmurjani/.wdm/drivers/chromedriver/mac64/131.0.6778.87/chromedriver-mac-arm64/chromedriver] found in cache\n",
      "INFO:__main__:Starting to scrape Medium article: https://medium.com/schmiedeone/getting-started-with-ros2-part-1-d4c3b7335c71\n",
      "INFO:__main__:Successfully scraped and saved article: https://medium.com/schmiedeone/getting-started-with-ros2-part-1-d4c3b7335c71\n"
     ]
    },
    {
     "name": "stdout",
     "output_type": "stream",
     "text": [
      "{'Title': None, 'Subtitle': None, 'Content': 'Just a moment...medium.comVerifying you are human. This may take a few seconds.medium.com needs to review the security of your connection before proceeding.Verification successfulWaiting for medium.com to respond...Enable JavaScript and cookies to continueRay ID:8ee329206b3641c3Performance & security byCloudflare'}\n"
     ]
    }
   ],
   "source": [
    "import time\n",
    "import logging\n",
    "import uuid\n",
    "from pymongo import mongoclient, errors\n",
    "from selenium import webdriver\n",
    "from selenium.webdriver.chrome.options import options\n",
    "from selenium.webdriver.chrome.service import service\n",
    "from driver_manager.chrome import chromedrivermanager\n",
    "from bs4 import beautifulsoup\n",
    "\n",
    "# mongodb configuration\n",
    "mongo_uri = \"mongodb://localhost:27017/\"\n",
    "database_name = \"medium_scraper\"\n",
    "collection_name = \"repositories\"\n",
    "\n",
    "client = mongoclient(mongo_uri)\n",
    "db = client[database_name]\n",
    "collection = db[collection_name]\n",
    "\n",
    "# set up logging\n",
    "logger = logging.getlogger(__name__)\n",
    "logging.basicconfig(level=logging.info)\n",
    "\n",
    "class mediumcrawler:\n",
    "    def __init__(self):\n",
    "        # set up chrome options\n",
    "        self.options = options()\n",
    "        self.options.add_argument(\"--headless\")  # run in headless mode\n",
    "\n",
    "        # use chromedrivermanager with service\n",
    "        service = service(chromedrivermanager().install())\n",
    "        self.driver = webdriver.chrome(service=service, options=self.options)\n",
    "\n",
    "    def scroll_page(self, scroll_pause_time=1):\n",
    "        \"\"\"scroll down the page to load more content.\"\"\"\n",
    "        last_height = self.driver.execute_script(\"return document.body.scrollheight\")\n",
    "\n",
    "        while true:\n",
    "            # scroll down to the bottom\n",
    "            self.driver.execute_script(\"window.scrollto(0, document.body.scrollheight);\")\n",
    "            time.sleep(scroll_pause_time)\n",
    "\n",
    "            # check if we've reached the bottom\n",
    "            new_height = self.driver.execute_script(\"return document.body.scrollheight\")\n",
    "            if new_height == last_height:\n",
    "                break\n",
    "            last_height = new_height\n",
    "\n",
    "    def extract(self, link: str, user: dict = none):\n",
    "        # check if the article already exists in the database\n",
    "        if collection.find_one({\"link\": link}):\n",
    "            logger.info(f\"article already exists in the database: {link}\")\n",
    "            return\n",
    "\n",
    "        logger.info(f\"starting to scrape medium article: {link}\")\n",
    "\n",
    "        self.driver.get(link)\n",
    "        self.scroll_page()\n",
    "\n",
    "        soup = beautifulsoup(self.driver.page_source, \"html.parser\")\n",
    "        title = soup.find_all(\"h1\", class_=\"pw-post-title\")\n",
    "        subtitle = soup.find_all(\"h2\", class_=\"pw-subtitle-paragraph\")\n",
    "\n",
    "        data = {\n",
    "            \"title\": title[0].get_text(strip=true) if title else none,\n",
    "            \"subtitle\": subtitle[0].get_text(strip=true) if subtitle else none,\n",
    "            \"content\": soup.get_text(strip=true),\n",
    "        }\n",
    "\n",
    "        # save the article data to mongodb\n",
    "        doc = {\n",
    "            \"_id\": str(uuid.uuid4()),\n",
    "            \"link\": link,\n",
    "            \"platform\": \"medium\",\n",
    "            \"content\": data,\n",
    "        }\n",
    "\n",
    "        if user:\n",
    "            doc[\"author_id\"] = user[\"id\"]\n",
    "            doc[\"author_full_name\"] = user[\"full_name\"]\n",
    "\n",
    "        try:\n",
    "            collection.insert_one(doc)\n",
    "            logger.info(f\"successfully scraped and saved article: {link}\")\n",
    "        except errors.pymongoerror as e:\n",
    "            logger.error(f\"failed to save article to mongodb: {e}\")\n",
    "\n",
    "        return data\n",
    "\n",
    "    def close(self):\n",
    "        \"\"\"close the driver after scraping is done.\"\"\"\n",
    "        self.driver.quit()\n",
    "\n",
    "# example usage:\n",
    "crawler = mediumcrawler()\n",
    "sample_user = {\"id\": str(uuid.uuid4()), \"full_name\": \"sample user\"}\n",
    "article_link = \"https://medium.com/@tetraengnrng/a-beginners-guide-to-ros2-29721dcf49c8\"\n",
    "data = crawler.extract(article_link, user=sample_user)\n",
    "print(data)\n",
    "crawler.close()"
   ]
  }
 ],
 "metadata": {
  "kernelspec": {
   "display_name": "Python 3",
   "language": "python",
   "name": "python3"
  },
  "language_info": {
   "codemirror_mode": {
    "name": "ipython",
    "version": 3
   },
   "file_extension": ".py",
   "mimetype": "text/x-python",
   "name": "python",
   "nbconvert_exporter": "python",
   "pygments_lexer": "ipython3",
   "version": "3.9.6"
  }
 },
 "nbformat": 4,
 "nbformat_minor": 2
}
