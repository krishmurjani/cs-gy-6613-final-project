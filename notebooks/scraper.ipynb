{
 "cells": [
  {
   "cell_type": "code",
   "execution_count": 1,
   "id": "95ba563e-05b8-4eb8-be72-cbfced5709d5",
   "metadata": {},
   "outputs": [
    {
     "name": "stdout",
     "output_type": "stream",
     "text": [
      "Defaulting to user installation because normal site-packages is not writeable\n",
      "Collecting loguru\n",
      "  Downloading loguru-0.7.3-py3-none-any.whl (61 kB)\n",
      "\u001b[K     |████████████████████████████████| 61 kB 391 kB/s eta 0:00:011\n",
      "\u001b[?25hInstalling collected packages: loguru\n",
      "Successfully installed loguru-0.7.3\n",
      "\u001b[33mWARNING: You are using pip version 21.2.4; however, version 24.3.1 is available.\n",
      "You should consider upgrading via the '/Applications/Xcode.app/Contents/Developer/usr/bin/python3 -m pip install --upgrade pip' command.\u001b[0m\n",
      "Note: you may need to restart the kernel to use updated packages.\n"
     ]
    }
   ],
   "source": [
    "pip install loguru"
   ]
  },
  {
   "cell_type": "code",
   "execution_count": 2,
   "id": "ae09511f-70d9-4572-95f1-c7e2bb37a545",
   "metadata": {},
   "outputs": [
    {
     "name": "stdout",
     "output_type": "stream",
     "text": [
      "Defaulting to user installation because normal site-packages is not writeable\n",
      "Requirement already satisfied: pymongo in /Users/krishmurjani/Library/Python/3.9/lib/python/site-packages (4.10.1)\n",
      "Requirement already satisfied: dnspython<3.0.0,>=1.16.0 in /Users/krishmurjani/Library/Python/3.9/lib/python/site-packages (from pymongo) (2.7.0)\n",
      "\u001b[33mWARNING: You are using pip version 21.2.4; however, version 24.3.1 is available.\n",
      "You should consider upgrading via the '/Applications/Xcode.app/Contents/Developer/usr/bin/python3 -m pip install --upgrade pip' command.\u001b[0m\n",
      "Note: you may need to restart the kernel to use updated packages.\n"
     ]
    }
   ],
   "source": [
    "pip install pymongo"
   ]
  },
  {
   "cell_type": "code",
   "execution_count": 3,
   "id": "71f276df-511b-4986-911f-022ae71db409",
   "metadata": {},
   "outputs": [],
   "source": [
    "import os\n",
    "import shutil\n",
    "import subprocess\n",
    "import tempfile\n",
    "import uuid\n",
    "from typing import Dict\n",
    "from loguru import logger\n",
    "from pymongo import MongoClient, errors"
   ]
  },
  {
   "cell_type": "code",
   "execution_count": 4,
   "id": "61d76182-4302-4899-b190-8bb9e38773be",
   "metadata": {},
   "outputs": [],
   "source": [
    "MONGO_URI = \"mongodb://localhost:27017/\"\n",
    "DATABASE_NAME = \"github_scraper\"\n",
    "COLLECTION_NAME = \"repositories\"\n",
    "\n",
    "client = MongoClient(MONGO_URI)\n",
    "db = client[DATABASE_NAME]\n",
    "collection = db[COLLECTION_NAME]"
   ]
  },
  {
   "cell_type": "code",
   "execution_count": null,
   "id": "32f8d3d0-7a1c-404e-88d3-9d51384b5c4e",
   "metadata": {},
   "outputs": [],
   "source": [
    "class GithubCrawler:\n",
    "    def __init__(self, ignore=(\".git\", \".toml\", \".lock\", \".png\")) -> None:\n",
    "        self._ignore = ignore\n",
    "\n",
    "    def extract(self, link: str, user: Dict) -> None:\n",
    "        \"\"\"Extracts content from a GitHub repository and saves it to MongoDB.\"\"\"\n",
    "        # Check if repository already exists\n",
    "        if collection.find_one({\"link\": link}):\n",
    "            logger.info(f\"Repository already exists in the database: {link}\")\n",
    "            return\n",
    "\n",
    "        logger.info(f\"Starting to scrape GitHub repository: {link}\")\n",
    "        repo_name = link.rstrip(\"/\").split(\"/\")[-1]\n",
    "        local_temp = tempfile.mkdtemp()\n",
    "\n",
    "        try:\n",
    "            subprocess.run([\"git\", \"clone\", link], check=True, cwd=local_temp)\n",
    "\n",
    "            repo_path = os.path.join(local_temp, os.listdir(local_temp)[0])\n",
    "\n",
    "            # build  content tree\n",
    "            tree = {}\n",
    "            for root, _, files in os.walk(repo_path):\n",
    "                rel_dir = root.replace(repo_path, \"\").lstrip(\"/\")\n",
    "                if any(rel_dir.startswith(pattern) for pattern in self._ignore):\n",
    "                    continue\n",
    "\n",
    "                for file in files:\n",
    "                    if any(file.endswith(pattern) for pattern in self._ignore):\n",
    "                        continue\n",
    "                    file_path = os.path.join(rel_dir, file)\n",
    "                    try:\n",
    "                        with open(os.path.join(root, file), \"r\", errors=\"ignore\") as f:\n",
    "                            tree[file_path] = f.read().strip()\n",
    "                    except Exception as e:\n",
    "                        logger.warning(f\"Failed to read file {file_path}: {e}\")\n",
    "\n",
    "            # save the repo data to mongodb\n",
    "            repo_data = {\n",
    "                \"_id\": str(uuid.uuid4()),\n",
    "                \"name\": repo_name,\n",
    "                \"link\": link,\n",
    "                \"content\": tree,\n",
    "                \"platform\": \"github\",\n",
    "                \"author_id\": user[\"id\"],\n",
    "                \"author_full_name\": user[\"full_name\"],\n",
    "            }\n",
    "            collection.insert_one(repo_data)\n",
    "            logger.info(f\"Repository {repo_name} saved successfully.\")\n",
    "        except subprocess.CalledProcessError as e:\n",
    "            logger.error(f\"Failed to clone repository: {e}\")\n",
    "        except errors.PyMongoError as e:\n",
    "            logger.error(f\"Failed to save data to MongoDB: {e}\")\n",
    "        finally:\n",
    "            # clean the temp directory\n",
    "            shutil.rmtree(local_temp)\n",
    "\n",
    "        logger.info(f\"Finished scraping GitHub repository: {link}\")"
   ]
  },
  {
   "cell_type": "code",
   "execution_count": null,
   "id": "c03fc06d-b6b1-454a-bf42-069862bf3c42",
   "metadata": {},
   "outputs": [
    {
     "name": "stderr",
     "output_type": "stream",
     "text": [
      "\u001b[32m2024-12-06 23:48:31.728\u001b[0m | \u001b[1mINFO    \u001b[0m | \u001b[36m__main__\u001b[0m:\u001b[36mextract\u001b[0m:\u001b[36m9\u001b[0m - \u001b[1mRepository already exists in the database: https://github.com/ros-controls/ros2_controllers\u001b[0m\n",
      "\u001b[32m2024-12-06 23:48:31.748\u001b[0m | \u001b[1mINFO    \u001b[0m | \u001b[36m__main__\u001b[0m:\u001b[36mextract\u001b[0m:\u001b[36m9\u001b[0m - \u001b[1mRepository already exists in the database: https://github.com/ros-controls/ros2_control_demos\u001b[0m\n",
      "\u001b[32m2024-12-06 23:48:31.753\u001b[0m | \u001b[1mINFO    \u001b[0m | \u001b[36m__main__\u001b[0m:\u001b[36mextract\u001b[0m:\u001b[36m9\u001b[0m - \u001b[1mRepository already exists in the database: https://github.com/IntelligentSystemsLabUTV/ros2-examples\u001b[0m\n"
     ]
    }
   ],
   "source": [
    "crawler = GithubCrawler()\n",
    "test_user = {\"id\": str(uuid.uuid4()), \"full_name\": \"Test User\"}\n",
    "\n",
    "test_links = [\n",
    "    \"https://github.com/ros-controls/ros2_controllers\",\n",
    "    # \"https://github.com/IFRA-Cranfield/ros2_SimRealRobotControl\",\n",
    "    \"https://github.com/ros-controls/ros2_control_demos\",\n",
    "    \"https://github.com/IntelligentSystemsLabUTV/ros2-examples\",\n",
    "    # \"https://github.com/ros-navigation/navigation2\"\n",
    "]\n",
    "\n",
    "# iterating\n",
    "for link in test_links:\n",
    "    crawler.extract(link=link, user=test_user)"
   ]
  },
  {
   "cell_type": "code",
   "execution_count": null,
   "id": "333bc5ea-3190-466d-a47e-d52ff0ce161d",
   "metadata": {},
   "outputs": [
    {
     "name": "stdout",
     "output_type": "stream",
     "text": [
      "Total documents: 3\n"
     ]
    }
   ],
   "source": [
    "from pymongo import MongoClient\n",
    "\n",
    "client = MongoClient(\"mongodb://localhost:27017/\")\n",
    "db = client[\"github_scraper\"]\n",
    "collection = db[\"repositories\"]\n",
    "\n",
    "documents = list(collection.find())\n",
    "# for doc in documents:\n",
    "#     print(doc)\n",
    "\n",
    "print(\"Total documents:\", len(documents))"
   ]
  },
  {
   "cell_type": "code",
   "execution_count": 17,
   "id": "3f8b7b66",
   "metadata": {},
   "outputs": [
    {
     "name": "stdout",
     "output_type": "stream",
     "text": [
      "['d4b9ba47-79ef-4cac-ac5b-a00ecab94779', '16fbe7f7-f3f9-4afa-9b6c-65af435d70e1', '8dc64a03-a856-4109-b7f9-8e13c62d4b44']\n"
     ]
    }
   ],
   "source": [
    "from pymongo import MongoClient\n",
    "\n",
    "client = MongoClient(\"mongodb://localhost:27017/\")\n",
    "db = client[\"github_scraper\"]\n",
    "collection = db[\"repositories\"]\n",
    "\n",
    "ids = []\n",
    "for doc in collection.find():\n",
    "    ids.append(doc[\"_id\"])\n",
    "\n",
    "print(ids)"
   ]
  }
 ],
 "metadata": {
  "kernelspec": {
   "display_name": "Python 3",
   "language": "python",
   "name": "python3"
  },
  "language_info": {
   "codemirror_mode": {
    "name": "ipython",
    "version": 3
   },
   "file_extension": ".py",
   "mimetype": "text/x-python",
   "name": "python",
   "nbconvert_exporter": "python",
   "pygments_lexer": "ipython3",
   "version": "3.9.6"
  }
 },
 "nbformat": 4,
 "nbformat_minor": 5
}
